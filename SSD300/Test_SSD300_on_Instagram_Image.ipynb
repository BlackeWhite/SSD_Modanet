{
  "nbformat": 4,
  "nbformat_minor": 0,
  "metadata": {
    "colab": {
      "name": "Test SSD300 on Instagram Image",
      "provenance": [],
      "collapsed_sections": [],
      "authorship_tag": "ABX9TyN7YHFyXtm1hvTAD8kvmvlD",
      "include_colab_link": true
    },
    "kernelspec": {
      "name": "python3",
      "display_name": "Python 3"
    }
  },
  "cells": [
    {
      "cell_type": "markdown",
      "metadata": {
        "id": "view-in-github",
        "colab_type": "text"
      },
      "source": [
        "<a href=\"https://colab.research.google.com/github/BlackeWhite/SSD_Modanet/blob/master/SSD300/Test_SSD300_on_Instagram_Image.ipynb\" target=\"_parent\"><img src=\"https://colab.research.google.com/assets/colab-badge.svg\" alt=\"Open In Colab\"/></a>"
      ]
    },
    {
      "cell_type": "markdown",
      "metadata": {
        "id": "7r9CkElW_CQ3",
        "colab_type": "text"
      },
      "source": [
        "# Import Library "
      ]
    },
    {
      "cell_type": "code",
      "metadata": {
        "id": "6JK3lPvel8mT",
        "colab_type": "code",
        "colab": {}
      },
      "source": [
        "!pip install keras==2.2.3\n",
        "!pip install tensorflow-gpu==1.15\n",
        "import os.path\n",
        "if not(os.path.isdir('keras_layers')):\n",
        "  !git clone https://github.com/pierluigiferrari/ssd_keras.git\n",
        "  !mv ./ssd_keras/* . \n",
        "  !rm -r ssd_keras\n",
        "\n",
        "from keras import backend as K\n",
        "from keras.models import load_model\n",
        "from keras.preprocessing import image\n",
        "from keras.optimizers import Adam, SGD\n",
        "from imageio import imread\n",
        "import numpy as np\n",
        "from matplotlib import pyplot as plt\n",
        "\n",
        "from models.keras_ssd300 import ssd_300\n",
        "from keras_loss_function.keras_ssd_loss import SSDLoss\n",
        "from keras_layers.keras_layer_AnchorBoxes import AnchorBoxes\n",
        "from keras_layers.keras_layer_DecodeDetections import DecodeDetections\n",
        "from keras_layers.keras_layer_DecodeDetectionsFast import DecodeDetectionsFast\n",
        "from keras_layers.keras_layer_L2Normalization import L2Normalization\n",
        "\n",
        "from ssd_encoder_decoder.ssd_output_decoder import decode_detections, decode_detections_fast\n",
        "\n",
        "from data_generator.object_detection_2d_data_generator import DataGenerator\n",
        "from data_generator.object_detection_2d_photometric_ops import ConvertTo3Channels\n",
        "from data_generator.object_detection_2d_geometric_ops import Resize\n",
        "from data_generator.object_detection_2d_misc_utils import apply_inverse_transforms\n",
        "\n",
        "%matplotlib inline\n",
        "# Set the image size.\n",
        "img_height = 300\n",
        "img_width = 300"
      ],
      "execution_count": null,
      "outputs": []
    },
    {
      "cell_type": "markdown",
      "metadata": {
        "id": "kPSbxqtc_Txz",
        "colab_type": "text"
      },
      "source": [
        "# Import Instagram Image and weight of SSD300"
      ]
    },
    {
      "cell_type": "code",
      "metadata": {
        "id": "KOCWGkLV1qRZ",
        "colab_type": "code",
        "colab": {}
      },
      "source": [
        "!pip install -U -q PyDrive\n",
        "from pydrive.auth import GoogleAuth\n",
        "from pydrive.drive import GoogleDrive\n",
        "from google.colab import auth\n",
        "from oauth2client.client import GoogleCredentials\n",
        "\n",
        "# Authenticate and create the PyDrive client.\n",
        "# This only needs to be done once in a notebook.\n",
        "auth.authenticate_user()\n",
        "gauth = GoogleAuth()\n",
        "gauth.credentials = GoogleCredentials.get_application_default()\n",
        "drive = GoogleDrive(gauth)\n",
        "\n",
        "#Immagini da Instagram importate da 3 hastag #outfit #streetoutfit #streetstyle \n",
        "\n",
        "Test = drive.CreateFile({'id': '1K8GVy4sdBPHi7Nz3sM6ZPNZ-3xvYpzF8'}) \n",
        "Test.GetContentFile(Test['title'])  # Save Drive file as a local file\n",
        "print('Uploaded {}, id {}'.format(Test['title'], Test['id']))\n",
        "!unzip immagini_instagram.zip\n",
        "\n",
        "Weight = drive.CreateFile({'id': '1Ldszh6MHnGyQRrmZGn4-gln1SgQPGZ1v'}) \n",
        "Weight.GetContentFile(Weight['title'])  # Save Drive file as a local file\n",
        "print('Uploaded {}, id {}'.format(Weight['title'], Weight['id']))"
      ],
      "execution_count": null,
      "outputs": []
    },
    {
      "cell_type": "markdown",
      "metadata": {
        "id": "y7s-D3bY_0Z2",
        "colab_type": "text"
      },
      "source": [
        "# Load the Model"
      ]
    },
    {
      "cell_type": "code",
      "metadata": {
        "id": "1KojmxvUmSYd",
        "colab_type": "code",
        "colab": {}
      },
      "source": [
        "# 1: Build the Keras model\n",
        "\n",
        "K.clear_session() # Clear previous models from memory.\n",
        "\n",
        "model = ssd_300(image_size=(img_height, img_width, 3),\n",
        "                n_classes=13,\n",
        "                mode='inference',\n",
        "                l2_regularization=0.0005,\n",
        "                scales=[0.1, 0.2, 0.37, 0.54, 0.71, 0.88, 1.05], # The scales for MS COCO are [0.07, 0.15, 0.33, 0.51, 0.69, 0.87, 1.05]\n",
        "                aspect_ratios_per_layer=[[1.0, 2.0, 0.5],\n",
        "                                         [1.0, 2.0, 0.5, 3.0, 1.0/3.0],\n",
        "                                         [1.0, 2.0, 0.5, 3.0, 1.0/3.0],\n",
        "                                         [1.0, 2.0, 0.5, 3.0, 1.0/3.0],\n",
        "                                         [1.0, 2.0, 0.5],\n",
        "                                         [1.0, 2.0, 0.5]],\n",
        "                two_boxes_for_ar1=True,\n",
        "                steps=[8, 16, 32, 64, 100, 300],\n",
        "                offsets=[0.5, 0.5, 0.5, 0.5, 0.5, 0.5],\n",
        "                clip_boxes=False,\n",
        "                variances=[0.1, 0.1, 0.2, 0.2],\n",
        "                normalize_coords=True,\n",
        "                subtract_mean=[123, 117, 104],\n",
        "                swap_channels=[2, 1, 0],\n",
        "                confidence_thresh=0.5,\n",
        "                iou_threshold=0.45,\n",
        "                top_k=200,\n",
        "                nms_max_output_size=400)\n",
        "\n",
        "# 2: Load the trained weights into the model.\n",
        "\n",
        "# TODO: Set the path of the trained weights.\n",
        "weights_path = './ssd300_Modanet_data-aug_epoch-150_loss-5.3164_val_loss-5.1061.h5'\n",
        "\n",
        "model.load_weights(weights_path, by_name=True)\n",
        "\n",
        "# 3: Compile the model so that Keras won't complain the next time you load it.\n",
        "\n",
        "sgd = SGD(lr=0.001, momentum=0.9, decay=0.0, nesterov=False)\n",
        "\n",
        "ssd_loss = SSDLoss(neg_pos_ratio=3, alpha=1.0)\n",
        "\n",
        "model.compile(optimizer=sgd, loss=ssd_loss.compute_loss)"
      ],
      "execution_count": null,
      "outputs": []
    },
    {
      "cell_type": "markdown",
      "metadata": {
        "id": "PxYfkfEUBaEw",
        "colab_type": "text"
      },
      "source": [
        "# Prediction of Bounding box on Istagram Image"
      ]
    },
    {
      "cell_type": "code",
      "metadata": {
        "id": "ugm1jI4Omdna",
        "colab_type": "code",
        "colab": {}
      },
      "source": [
        "import os\n",
        "\n",
        "!mkdir  new_image\n",
        "\n",
        "classes = ['background',\n",
        "           'bag', 'belt', 'boots', 'footwear',\n",
        "           'outer', 'dress', 'sunglasses', 'pants',\n",
        "           'top', 'shorts', 'skirt', 'headwear',\n",
        "           'scarf/tie']\n",
        "\n",
        "lista_image = []\n",
        "\n",
        "lista_image= os.listdir(\"/content/Nuova cartella/#streetstyle\")  # va fatto per tutti e 3 gli hastag \n",
        "for item in lista_image:\n",
        "\n",
        "  orig_images = [] # Store the images here.\n",
        "  input_images = [] # Store resized versions of the images here.\n",
        "\n",
        "  # We'll only load one image in this example.\n",
        "  img_path = '/content/Nuova cartella/#streetstyle/' + item    #cambiare il nome della cartella \n",
        "\n",
        "  orig_images.append(imread(img_path))\n",
        "  img = image.load_img(img_path, target_size=(img_height, img_width))\n",
        "  img = image.img_to_array(img) \n",
        "  input_images.append(img)\n",
        "  input_images = np.array(input_images)\n",
        "  y_pred = model.predict(input_images)\n",
        "  confidence_threshold = 0.5\n",
        "  y_pred_thresh = [y_pred[k][y_pred[k,:,1] > confidence_threshold] for k in range(y_pred.shape[0])]\n",
        "\n",
        "  np.set_printoptions(precision=2, suppress=True, linewidth=90)\n",
        "  print(\"Predicted boxes for \",item,\"\\n\")\n",
        "  print('   class   conf xmin   ymin   xmax   ymax')\n",
        "  print(y_pred_thresh[0])\n",
        "\n",
        "  if y_pred_thresh[0] != []:\n",
        "    colors = plt.cm.hsv(np.linspace(0, 1, 21)).tolist()\n",
        "    plt.figure(figsize=(20,12))\n",
        "    plt.imshow(orig_images[0])\n",
        "    current_axis = plt.gca()\n",
        "    for box in y_pred_thresh[0]:\n",
        "      # Transform the predicted bounding boxes for the 300x300 image to the original image dimensions.\n",
        "      xmin = box[2] * orig_images[0].shape[1] / img_width\n",
        "      ymin = box[3] * orig_images[0].shape[0] / img_height\n",
        "      xmax = box[4] * orig_images[0].shape[1] / img_width\n",
        "      ymax = box[5] * orig_images[0].shape[0] / img_height\n",
        "      color = colors[int(box[0])]\n",
        "      label = '{}: {:.2f}'.format(classes[int(box[0])], box[1])\n",
        "      current_axis.add_patch(plt.Rectangle((xmin, ymin), xmax-xmin, ymax-ymin, color=color, fill=False, linewidth=2))  \n",
        "      current_axis.text(xmin, ymin, label, size='x-large', color='white', bbox={'facecolor':color, 'alpha':1.0})  \n",
        "  \n",
        "      plt.savefig('./new_image/' + item)\n",
        "    \n",
        "  "
      ],
      "execution_count": null,
      "outputs": []
    },
    {
      "cell_type": "code",
      "metadata": {
        "id": "2CD88_JhmzgZ",
        "colab_type": "code",
        "colab": {}
      },
      "source": [
        "!zip streetstyle.zip new_image/* \n"
      ],
      "execution_count": null,
      "outputs": []
    }
  ]
}