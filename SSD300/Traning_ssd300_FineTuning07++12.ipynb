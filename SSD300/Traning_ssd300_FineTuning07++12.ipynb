{
  "nbformat": 4,
  "nbformat_minor": 0,
  "metadata": {
    "colab": {
      "name": "Traning_ssd300_FineTuning07++12.ipynb",
      "provenance": [],
      "collapsed_sections": [],
      "toc_visible": true,
      "include_colab_link": true
    },
    "kernelspec": {
      "name": "python3",
      "display_name": "Python 3"
    },
    "accelerator": "GPU"
  },
  "cells": [
    {
      "cell_type": "markdown",
      "metadata": {
        "id": "view-in-github",
        "colab_type": "text"
      },
      "source": [
        "<a href=\"https://colab.research.google.com/github/BlackeWhite/SSD_Modanet/blob/master/SSD300/Traning_ssd300_FineTuning07%2B%2B12.ipynb\" target=\"_parent\"><img src=\"https://colab.research.google.com/assets/colab-badge.svg\" alt=\"Open In Colab\"/></a>"
      ]
    },
    {
      "cell_type": "markdown",
      "metadata": {
        "id": "LaQuW8H21jAd",
        "colab_type": "text"
      },
      "source": [
        "# Import Google Drive File"
      ]
    },
    {
      "cell_type": "code",
      "metadata": {
        "id": "lQ4K9DH26voA",
        "colab_type": "code",
        "colab": {}
      },
      "source": [
        "#per salvare file di gorsse dimensioni sul drive \n",
        "!pip install httplib2==0.15.0\n",
        "!pip install google-api-python-client==1.6\n",
        "from google.colab import drive\n",
        "drive.mount('/content/drive')"
      ],
      "execution_count": null,
      "outputs": []
    },
    {
      "cell_type": "code",
      "metadata": {
        "id": "KOCWGkLV1qRZ",
        "colab_type": "code",
        "colab": {}
      },
      "source": [
        "!pip install -U -q PyDrive\n",
        "from pydrive.auth import GoogleAuth\n",
        "from pydrive.drive import GoogleDrive\n",
        "from google.colab import auth\n",
        "from oauth2client.client import GoogleCredentials\n",
        "\n",
        "# Authenticate and create the PyDrive client.\n",
        "# This only needs to be done once in a notebook.\n",
        "auth.authenticate_user()\n",
        "gauth = GoogleAuth()\n",
        "gauth.credentials = GoogleCredentials.get_application_default()\n",
        "drive = GoogleDrive(gauth)\n",
        "#VGG_VOC0712Plus_SSD_300x300_iter_240000\n",
        "Weight = drive.CreateFile({'id': '1M99knPZ4DpY9tI60iZqxXsAxX2bYWDvZ'}) \n",
        "Weight.GetContentFile(Weight['title'])  # Save Drive file as a local file\n",
        "print('Uploaded {}, id {}'.format(Weight['title'], Weight['id']))\n",
        "#dataset\n",
        "Modadat = drive.CreateFile({'id': '1il_eW1COHs1_QijMh3zklvhmE_Dfk0qh'}) \n",
        "Modadat.GetContentFile(Modadat['title'])  # Save Drive file as a local file\n",
        "print('Uploaded {}, id {}'.format(Modadat['title'], Modadat['id']))\n",
        "!unzip dataset.zip \n",
        "#annotazioni \n",
        "annotaz = drive.CreateFile({'id': '1aD4BgDD7grEFYlDKr0k_SHPw1qbt9N1q'}) \n",
        "annotaz.GetContentFile(annotaz['title'])  # Save Drive file as a local file\n",
        "print('Uploaded {}, id {}'.format(annotaz['title'], annotaz['id']))\n",
        "!unzip annotazioni.zip "
      ],
      "execution_count": null,
      "outputs": []
    },
    {
      "cell_type": "markdown",
      "metadata": {
        "id": "B3WbzmGawz1w",
        "colab_type": "text"
      },
      "source": [
        "# Import library"
      ]
    },
    {
      "cell_type": "markdown",
      "metadata": {
        "id": "ezuUWsHzxFsL",
        "colab_type": "text"
      },
      "source": [
        "Import library from github of Pireluigi Ferrari that had created the code for implement the SSD"
      ]
    },
    {
      "cell_type": "code",
      "metadata": {
        "id": "PD4rDcaNw3ko",
        "colab_type": "code",
        "colab": {}
      },
      "source": [
        "!pip install keras==2.2.3\n",
        "\n",
        "!pip install tensorflow-gpu==1.15\n",
        "\n",
        "import h5py\n",
        "import numpy as np\n",
        "import shutil\n",
        "import os.path\n",
        "if not(os.path.isdir('keras_layers')):\n",
        "  !git clone https://github.com/pierluigiferrari/ssd_keras.git\n",
        "  !mv ./ssd_keras/* . #copy all file in the root directory, you must this because after invocate the lib in the repository \n",
        "  !rm -r ssd_keras\n",
        "\n",
        "from keras.optimizers import SGD\n",
        "from keras.callbacks import ModelCheckpoint, LearningRateScheduler, TerminateOnNaN, CSVLogger\n",
        "from keras import backend as K\n",
        "from keras.models import load_model\n",
        "import tensorflow as tf\n",
        "from math import ceil\n",
        "import numpy as np\n",
        "from matplotlib import pyplot as plt\n",
        "\n",
        "from sklearn.model_selection import train_test_split\n",
        "\n",
        "from models.keras_ssd300 import ssd_300\n",
        "from keras_loss_function.keras_ssd_loss import SSDLoss\n",
        "from keras_layers.keras_layer_AnchorBoxes import AnchorBoxes\n",
        "from keras_layers.keras_layer_DecodeDetections import DecodeDetections\n",
        "from keras_layers.keras_layer_DecodeDetectionsFast import DecodeDetectionsFast\n",
        "from keras_layers.keras_layer_L2Normalization import L2Normalization\n",
        "\n",
        "from ssd_encoder_decoder.ssd_input_encoder import SSDInputEncoder\n",
        "from ssd_encoder_decoder.ssd_output_decoder import decode_detections, decode_detections_fast\n",
        "\n",
        "from data_generator.object_detection_2d_data_generator import DataGenerator\n",
        "from data_generator.object_detection_2d_geometric_ops import Resize\n",
        "from data_generator.object_detection_2d_photometric_ops import ConvertTo3Channels\n",
        "from data_generator.data_augmentation_chain_original_ssd import SSDDataAugmentation, SSDRandomCrop\n",
        "from data_generator.object_detection_2d_misc_utils import apply_inverse_transforms\n",
        "\n",
        "import logging\n",
        "\n",
        "%matplotlib inline"
      ],
      "execution_count": null,
      "outputs": []
    },
    {
      "cell_type": "markdown",
      "metadata": {
        "id": "OfRRXUur0ze9",
        "colab_type": "text"
      },
      "source": [
        "# Set the model configuration parameters"
      ]
    },
    {
      "cell_type": "code",
      "metadata": {
        "id": "wck2x6q0zgJC",
        "colab_type": "code",
        "colab": {}
      },
      "source": [
        "# If you're resuming a previous training, set `initial_epoch` and `final_epoch` accordingly.\n",
        "initial_epoch   = 0\n",
        "final_epoch     = 120\n",
        "steps_per_epoch = 256\n",
        "\n",
        "img_height = 300 # Height of the model input images\n",
        "img_width = 300 # Width of the model input images\n",
        "img_channels = 3 # Number of color channels of the model input images\n",
        "mean_color = [123, 117, 104] # The per-channel mean of the images in the dataset. Do not change this value if you're using any of the pre-trained weights.\n",
        "swap_channels = [2, 1, 0] # The color channel order in the original SSD is BGR, so we'll have the model reverse the color channel order of the input images.\n",
        "n_classes = 13 # Number of positive classes\n",
        "scales = [0.07, 0.15, 0.33, 0.51, 0.69, 0.87, 1.05] # The anchor box scaling factors used in the original SSD300 for the MS COCO datasets\n",
        "\n",
        "aspect_ratios = [[1.0, 2.0, 0.5],\n",
        "                 [1.0, 2.0, 0.5, 3.0, 1.0/3.0],\n",
        "                 [1.0, 2.0, 0.5, 3.0, 1.0/3.0],\n",
        "                 [1.0, 2.0, 0.5, 3.0, 1.0/3.0],\n",
        "                 [1.0, 2.0, 0.5],\n",
        "                 [1.0, 2.0, 0.5]] # The anchor box aspect ratios used in the original SSD300; the order matters\n",
        "two_boxes_for_ar1 = True\n",
        "steps = [8, 16, 32, 64, 100, 300] # The space between two adjacent anchor box center points for each predictor layer.\n",
        "offsets = [0.5, 0.5, 0.5, 0.5, 0.5, 0.5] # The offsets of the first anchor box center points from the top and left borders of the image as a fraction of the step size for each predictor layer.\n",
        "clip_boxes = False # Whether or not to clip the anchor boxes to lie entirely within the image boundaries\n",
        "variances = [0.1, 0.1, 0.2, 0.2] # The variances by which the encoded target coordinates are divided as in the original implementation\n",
        "normalize_coords = True\n"
      ],
      "execution_count": null,
      "outputs": []
    },
    {
      "cell_type": "markdown",
      "metadata": {
        "id": "WGvJOZou07KZ",
        "colab_type": "text"
      },
      "source": [
        "# Build the model or load the model"
      ]
    },
    {
      "cell_type": "markdown",
      "metadata": {
        "id": "K5wiqdPY1Lbx",
        "colab_type": "text"
      },
      "source": [
        "Create a copy of 07++12 weights"
      ]
    },
    {
      "cell_type": "code",
      "metadata": {
        "id": "xuAjWGsinUVQ",
        "colab_type": "code",
        "colab": {}
      },
      "source": [
        "# TODO: Set the path for the source weights file you want to load.\n",
        "\n",
        "weights_source_path = '/content/VGG_VOC0712Plus_SSD_300x300_iter_240000.h5'\n",
        "\n",
        "# TODO: Set the path and name for the destination weights file\n",
        "#       that you want to create.\n",
        "weights_destination_path = '/content/VGG_VOC0712Plus_SSD_300x300_iter_240000_13classes.h5'\n",
        "\n",
        "# Make a copy of the weights file.\n",
        "shutil.copy(weights_source_path, weights_destination_path)\n",
        "\n",
        "# Load both the source weights file and the copy we made.\n",
        "# We will load the original weights file in read-only mode so that we can't mess up anything.\n",
        "weights_source_file = h5py.File(weights_source_path, 'r')\n",
        "weights_destination_file = h5py.File(weights_destination_path)"
      ],
      "execution_count": null,
      "outputs": []
    },
    {
      "cell_type": "markdown",
      "metadata": {
        "id": "ZdkHsX7YoHMg",
        "colab_type": "text"
      },
      "source": [
        "\n",
        "I define for which weights we have to modify the number of classes"
      ]
    },
    {
      "cell_type": "code",
      "metadata": {
        "id": "Em6N4NncoG7G",
        "colab_type": "code",
        "colab": {}
      },
      "source": [
        "classifier_names = ['conv4_3_norm_mbox_conf',\n",
        "                    'fc7_mbox_conf',\n",
        "                    'conv6_2_mbox_conf',\n",
        "                    'conv7_2_mbox_conf',\n",
        "                    'conv8_2_mbox_conf',\n",
        "                    'conv9_2_mbox_conf']"
      ],
      "execution_count": null,
      "outputs": []
    },
    {
      "cell_type": "code",
      "metadata": {
        "id": "e-giJpNquY4R",
        "colab_type": "code",
        "colab": {
          "base_uri": "https://localhost:8080/",
          "height": 90
        },
        "outputId": "06755fb5-cf84-427f-888f-7d14f0ec0a11"
      },
      "source": [
        "conv4_3_norm_mbox_conf_kernel = weights_source_file[classifier_names[0]][classifier_names[0]]['kernel:0']\n",
        "conv4_3_norm_mbox_conf_bias = weights_source_file[classifier_names[0]][classifier_names[0]]['bias:0']\n",
        "\n",
        "print(\"Shape of the '{}' weights:\".format(classifier_names[0]))\n",
        "print()\n",
        "print(\"kernel:\\t\", conv4_3_norm_mbox_conf_kernel.shape)\n",
        "print(\"bias:\\t\", conv4_3_norm_mbox_conf_bias.shape)"
      ],
      "execution_count": null,
      "outputs": [
        {
          "output_type": "stream",
          "text": [
            "Shape of the 'conv4_3_norm_mbox_conf' weights:\n",
            "\n",
            "kernel:\t (3, 3, 512, 84)\n",
            "bias:\t (84,)\n"
          ],
          "name": "stdout"
        }
      ]
    },
    {
      "cell_type": "markdown",
      "metadata": {
        "id": "fnyKZymdosjb",
        "colab_type": "text"
      },
      "source": [
        "The code in this section iterates over all the classifier layers of the source weights file and performs the following steps for each classifier layer:\n",
        "\n",
        "1.   Get the kernel and bias tensors from the source weights file.\n",
        "2.   Compute the sub-sampling indices for the last axis. The first three axes of the kernel remain unchanged.\n",
        "3. Overwrite the corresponding kernel and bias tensors in the destination weights file with our newly created sub-sampled kernel and bias tensors."
      ]
    },
    {
      "cell_type": "code",
      "metadata": {
        "id": "QqWWsKNXspN8",
        "colab_type": "code",
        "colab": {}
      },
      "source": [
        "from misc_utils.tensor_sampling_utils import sample_tensors"
      ],
      "execution_count": null,
      "outputs": []
    },
    {
      "cell_type": "code",
      "metadata": {
        "id": "YU-H_SMjor-5",
        "colab_type": "code",
        "colab": {
          "base_uri": "https://localhost:8080/",
          "height": 183
        },
        "outputId": "01472942-dc58-4b99-8820-4578569e89e6"
      },
      "source": [
        "#       the background class, so for pascal voc's 20 classes, this must be 20 + 1 = 81.\n",
        "n_classes_source = 21\n",
        "# TODO: Set the indices of the classes that you want to pick for the sub-sampled weight tensors.\n",
        "#       In case you would like to just randomly sample a certain number of classes, you can just set\n",
        "#       `classes_of_interest` to an integer instead of the list below. Either way, don't forget to\n",
        "#       include the background class. That is, if you set an integer, and you want `n` positive classes,\n",
        "#       then you must set `classes_of_interest = n + 1`.\n",
        "#classes_of_interest = [0, 3, 8, 1, 2, 10, 4, 6, 12]\n",
        "classes_of_interest = 14\n",
        "\n",
        "for name in classifier_names:\n",
        "    # Get the trained weights for this layer from the source HDF5 weights file.\n",
        "    kernel = weights_source_file[name][name]['kernel:0'].value\n",
        "    bias = weights_source_file[name][name]['bias:0'].value\n",
        "\n",
        "    # Get the shape of the kernel. We're interested in sub-sampling\n",
        "    # the last dimension, 'o'.\n",
        "    height, width, in_channels, out_channels = kernel.shape\n",
        "    \n",
        "    # Compute the indices of the elements we want to sub-sample.\n",
        "    # Keep in mind that each classification predictor layer predicts multiple\n",
        "    # bounding boxes for every spatial location, so we want to sub-sample\n",
        "    # the relevant classes for each of these boxes.\n",
        "    if isinstance(classes_of_interest, (list, tuple)):\n",
        "        subsampling_indices = []\n",
        "        for i in range(int(out_channels/n_classes_source)):\n",
        "            indices = np.array(classes_of_interest) + i * n_classes_source\n",
        "            subsampling_indices.append(indices)\n",
        "        subsampling_indices = list(np.concatenate(subsampling_indices))\n",
        "    elif isinstance(classes_of_interest, int):\n",
        "        subsampling_indices = int(classes_of_interest * (out_channels/n_classes_source))\n",
        "    else:\n",
        "        raise ValueError(\"`classes_of_interest` must be either an integer or a list/tuple.\")\n",
        "    \n",
        "    # Sub-sample the kernel and bias.\n",
        "    # The `sample_tensors()` function used below provides extensive\n",
        "    # documentation, so don't hesitate to read it if you want to know\n",
        "    # what exactly is going on here.\n",
        "    new_kernel, new_bias = sample_tensors(weights_list=[kernel, bias],\n",
        "                                          sampling_instructions=[height, width, in_channels, subsampling_indices],\n",
        "                                          axes=[[3]], # The one bias dimension corresponds to the last kernel dimension.\n",
        "                                          init=['gaussian', 'zeros'],\n",
        "                                          mean=0.0,\n",
        "                                          stddev=0.005)\n",
        "    \n",
        "    # Delete the old weights from the destination file.\n",
        "    del weights_destination_file[name][name]['kernel:0']\n",
        "    del weights_destination_file[name][name]['bias:0']\n",
        "    # Create new datasets for the sub-sampled weights.\n",
        "    weights_destination_file[name][name].create_dataset(name='kernel:0', data=new_kernel)\n",
        "    weights_destination_file[name][name].create_dataset(name='bias:0', data=new_bias)\n",
        "\n",
        "# Make sure all data is written to our output file before this sub-routine exits.\n",
        "weights_destination_file.flush()\n",
        "\n",
        "# Inspect the shapes of the weights of the 'conv4_3_norm_mbox_conf' layer in the destination weights file\n",
        "conv4_3_norm_mbox_conf_kernel = weights_destination_file[classifier_names[0]][classifier_names[0]]['kernel:0']\n",
        "conv4_3_norm_mbox_conf_bias = weights_destination_file[classifier_names[0]][classifier_names[0]]['bias:0']\n",
        "\n",
        "print(\"Shape of the '{}' weights:\".format(classifier_names[0]))\n",
        "print()\n",
        "print(\"kernel:\\t\", conv4_3_norm_mbox_conf_kernel.shape)\n",
        "print(\"bias:\\t\", conv4_3_norm_mbox_conf_bias.shape)"
      ],
      "execution_count": null,
      "outputs": [
        {
          "output_type": "stream",
          "text": [
            "Shape of the 'conv4_3_norm_mbox_conf' weights:\n",
            "\n",
            "kernel:\t (3, 3, 512, 56)\n",
            "bias:\t (56,)\n"
          ],
          "name": "stdout"
        },
        {
          "output_type": "stream",
          "text": [
            "/usr/local/lib/python3.6/dist-packages/ipykernel_launcher.py:13: H5pyDeprecationWarning: dataset.value has been deprecated. Use dataset[()] instead.\n",
            "  del sys.path[0]\n",
            "/usr/local/lib/python3.6/dist-packages/ipykernel_launcher.py:14: H5pyDeprecationWarning: dataset.value has been deprecated. Use dataset[()] instead.\n",
            "  \n"
          ],
          "name": "stderr"
        }
      ]
    },
    {
      "cell_type": "code",
      "metadata": {
        "id": "nBr3g5MI0xHh",
        "colab_type": "code",
        "colab": {}
      },
      "source": [
        "K.clear_session() # Clear previous models from memory.\n",
        "\n",
        "model, predictor_sizes = ssd_300(image_size=(img_height, img_width, img_channels),\n",
        "                n_classes=13,\n",
        "                mode='training',\n",
        "                l2_regularization=0.0005,\n",
        "                scales=scales,\n",
        "                aspect_ratios_per_layer=aspect_ratios,\n",
        "                two_boxes_for_ar1=two_boxes_for_ar1,\n",
        "                steps=steps,\n",
        "                offsets=offsets,\n",
        "                clip_boxes=clip_boxes,\n",
        "                variances=variances,\n",
        "                normalize_coords=normalize_coords,\n",
        "                subtract_mean=mean_color,\n",
        "                swap_channels=swap_channels,\n",
        "                return_predictor_sizes=True)\n",
        "\n",
        "# 2: Load some weights into the model.\n",
        "\n",
        "# TODO: Set the path to the weights you want to load.\n",
        "#weights_path = '' #pesi all'epoca n\n",
        "weights_path = weights_destination_path\n",
        "\n",
        "\n",
        "model.load_weights(weights_path, by_name=True)\n",
        "\n",
        "# 3: Instantiate an optimizer and the SSD loss function and compile the model.\n",
        "#    If you want to follow the original Caffe implementation, use the preset SGD\n",
        "#    optimizer, otherwise I'd recommend the commented-out Adam optimizer.\n",
        "\n",
        "#adam = Adam(lr=0.001, beta_1=0.9, beta_2=0.999, epsilon=1e-08, decay=0.0)\n",
        "sgd = SGD(lr=0.001, momentum=0.9, decay=0.0, nesterov=False)\n",
        "\n",
        "ssd_loss = SSDLoss(neg_pos_ratio=3, alpha=1.0)\n",
        "\n",
        "model.compile(optimizer=sgd, loss=ssd_loss.compute_loss,  metrics=[\"acc\"])\n"
      ],
      "execution_count": null,
      "outputs": []
    },
    {
      "cell_type": "markdown",
      "metadata": {
        "id": "NbO3KT6n4vjf",
        "colab_type": "text"
      },
      "source": [
        "# Load dataset"
      ]
    },
    {
      "cell_type": "code",
      "metadata": {
        "id": "IyVXZo4N76xl",
        "colab_type": "code",
        "colab": {}
      },
      "source": [
        "def rename(path):   #funzione per apportare modifiche ai nomi del dataset \n",
        "\tlis = os.listdir(path)\n",
        "\tfor item in lis:\n",
        "\t\ttemp=item.split(\".\")\n",
        "\t\twhile len(temp[0])<7:\n",
        "\t\t\tnew=str(0)+temp[0]\n",
        "\t\t\ttemp[0]=new\n",
        "\t\t\tif len(temp[0])==7:\n",
        "\t\t\t\tos.rename(path+item,path+temp[0]+\".jpg\")"
      ],
      "execution_count": null,
      "outputs": []
    },
    {
      "cell_type": "code",
      "metadata": {
        "id": "y4Q4UJzeCEcR",
        "colab_type": "code",
        "colab": {}
      },
      "source": [
        "rename('./new_train/')\n",
        "rename('./new_val/')\n",
        "rename('./new_test/')"
      ],
      "execution_count": null,
      "outputs": []
    },
    {
      "cell_type": "code",
      "metadata": {
        "id": "QXD2j0FqgDLc",
        "colab_type": "code",
        "colab": {
          "base_uri": "https://localhost:8080/",
          "height": 90
        },
        "outputId": "92bd69b6-ab61-4af2-b01b-21ce85671c90"
      },
      "source": [
        "# TODO: Set the paths to your dataset here.\n",
        "train_images_path = ['./new_train/']\n",
        "train_labels_path = ['annotazioni_train.json']\n",
        "val_images_path= ['./new_val/']\n",
        "val_labels_path = ['annotazioni_val.json']\n",
        "\n",
        "train_dataset = DataGenerator(load_images_into_memory=False)\n",
        "val_dataset = DataGenerator(load_images_into_memory=False)\n",
        "\n",
        "train_dataset.parse_json(images_dirs=train_images_path,\n",
        "                  annotations_filenames=train_labels_path,\n",
        "                  ground_truth_available= True,\n",
        "                  include_classes = 'all',\n",
        "                  ret=True)\n",
        "\n",
        "val_dataset.parse_json(images_dirs=val_images_path,\n",
        "                  annotations_filenames=val_labels_path,\n",
        "                  ground_truth_available= True,\n",
        "                  include_classes = 'all',\n",
        "                  ret=True)\n",
        "\n",
        "\n",
        "print(\"Number of images in the traning dataset:\", train_dataset.get_dataset_size())\n",
        "print(\"Number of images in the validation dataset:\", val_dataset.get_dataset_size())"
      ],
      "execution_count": null,
      "outputs": [
        {
          "output_type": "stream",
          "text": [
            "Processing 'annotazioni_train.json': 100%|██████████| 41810/41810 [00:00<00:00, 90618.60it/s]\n",
            "Processing 'annotazioni_val.json': 100%|██████████| 5225/5225 [00:00<00:00, 82671.56it/s]\n",
            "Number of images in the traning dataset: 41810\n",
            "Number of images in the validation dataset: 5225\n"
          ],
          "name": "stdout"
        }
      ]
    },
    {
      "cell_type": "code",
      "metadata": {
        "id": "lCQKsX44x6W3",
        "colab_type": "code",
        "colab": {
          "base_uri": "https://localhost:8080/",
          "height": 54
        },
        "outputId": "72ebb6cd-311f-4f66-e54c-7e04f094c9b8"
      },
      "source": [
        "# 3: Set the batch size.\n",
        "\n",
        "batch_size = 64\n",
        "\n",
        "# For the validation generator:\n",
        "convert_to_3_channels = ConvertTo3Channels()\n",
        "resize = Resize(height=img_height, width=img_width)\n",
        "\n",
        "\n",
        "\n",
        "ssd_input_encoder = SSDInputEncoder(img_height=img_height,\n",
        "                                    img_width=img_width,\n",
        "                                    n_classes=n_classes,\n",
        "                                    predictor_sizes=predictor_sizes,\n",
        "                                    scales=scales,\n",
        "                                    aspect_ratios_per_layer=aspect_ratios,\n",
        "                                    two_boxes_for_ar1=two_boxes_for_ar1,\n",
        "                                    steps=steps,\n",
        "                                    offsets=offsets,\n",
        "                                    clip_boxes=clip_boxes,\n",
        "                                    variances=variances,\n",
        "                                    matching_type='multi',\n",
        "                                    pos_iou_threshold=0.5,\n",
        "                                    neg_iou_limit=0.5,\n",
        "                                    normalize_coords=normalize_coords)\n",
        "\n",
        "# 6: Create the generator handles that will be passed to Keras' `fit_generator()` function.\n",
        "train_generator = train_dataset.generate(batch_size=batch_size,\n",
        "                                         shuffle=True,\n",
        "                                         transformations=[convert_to_3_channels,resize],\n",
        "                                         label_encoder=ssd_input_encoder,\n",
        "                                         returns={'processed_images',\n",
        "                                                  'encoded_labels'},\n",
        "                                         keep_images_without_gt=False)\n",
        "\n",
        "val_generator = val_dataset.generate(batch_size=batch_size,\n",
        "                                     shuffle=False,\n",
        "                                     transformations=[convert_to_3_channels,\n",
        "                                                      resize],\n",
        "                                     label_encoder=ssd_input_encoder,\n",
        "                                     returns={'processed_images',\n",
        "                                              'encoded_labels'},\n",
        "                                     keep_images_without_gt=False)\n",
        "# Get the number of samples in the training and validations datasets.\n",
        "train_dataset_size = train_dataset.get_dataset_size()\n",
        "val_dataset_size   = val_dataset.get_dataset_size()\n",
        "\n",
        "print(\"Number of images in the training dataset:\\t{:>6}\".format(train_dataset_size))\n",
        "print(\"Number of images in the validation dataset:\\t{:>6}\".format(val_dataset_size))"
      ],
      "execution_count": null,
      "outputs": [
        {
          "output_type": "stream",
          "text": [
            "Number of images in the training dataset:\t 41810\n",
            "Number of images in the validation dataset:\t  5225\n"
          ],
          "name": "stdout"
        }
      ]
    },
    {
      "cell_type": "markdown",
      "metadata": {
        "id": "9VcOeryG62HU",
        "colab_type": "text"
      },
      "source": [
        "Set the remaining training parameters"
      ]
    },
    {
      "cell_type": "code",
      "metadata": {
        "id": "6ZAHo__U6y2D",
        "colab_type": "code",
        "colab": {}
      },
      "source": [
        "logging.debug('Training preparation')\n",
        "# Define a learning rate schedule.\n",
        "\n",
        "def lr_schedule(epoch):\n",
        "    if epoch < 80:\n",
        "        return 0.001\n",
        "    elif epoch < 100:\n",
        "        return 0.0001\n",
        "    else:\n",
        "        return 0.00001\n",
        "# Define model callbacks.\n",
        "\n",
        "# TODO: Set the filepath under which you want to save the model.\n",
        "model_checkpoint = ModelCheckpoint(filepath='/content/drive/My Drive/Modelli_train/ssd300_07++12_minore_lr/ssd300_Modanet_07++12_epoch-{epoch:02d}_loss-{loss:.4f}_val_loss-{val_loss:.4f}.h5',\n",
        "                                   monitor='val_loss',\n",
        "                                   verbose=1,\n",
        "                                   save_best_only=True,\n",
        "                                   save_weights_only=False,\n",
        "                                   mode='auto',\n",
        "                                   period=1)\n",
        "#model_checkpoint.best = \n",
        "\n",
        "csv_logger = CSVLogger(filename='/content/drive/My Drive/Modelli_train/ssd300_07++12_minore_lr/log_ssd300_Modanet_07++12_.csv',\n",
        "                       separator=',',\n",
        "                       append=True)\n",
        "\n",
        "learning_rate_scheduler = LearningRateScheduler(schedule=lr_schedule,\n",
        "                                                verbose=1)\n",
        "\n",
        "terminate_on_nan = TerminateOnNaN()\n",
        "\n",
        "callbacks = [model_checkpoint,\n",
        "             csv_logger,\n",
        "             learning_rate_scheduler,\n",
        "             terminate_on_nan]\n",
        "\n",
        "logging.debug('Training prepared')"
      ],
      "execution_count": null,
      "outputs": []
    },
    {
      "cell_type": "markdown",
      "metadata": {
        "id": "Jzso6gke7CKE",
        "colab_type": "text"
      },
      "source": [
        "# Train the model"
      ]
    },
    {
      "cell_type": "code",
      "metadata": {
        "id": "ahAHibUG7Eiz",
        "colab_type": "code",
        "colab": {}
      },
      "source": [
        "history = model.fit_generator(generator=train_generator,\n",
        "                              steps_per_epoch=steps_per_epoch,\n",
        "                              epochs=final_epoch,\n",
        "                              callbacks=callbacks,\n",
        "                              validation_data=val_generator,\n",
        "                              validation_steps=ceil(val_dataset_size/batch_size),\n",
        "                              initial_epoch=initial_epoch)"
      ],
      "execution_count": null,
      "outputs": []
    },
    {
      "cell_type": "markdown",
      "metadata": {
        "id": "d-EZc3zl6Uhz",
        "colab_type": "text"
      },
      "source": [
        "# Generazione dei bounding box predetti e reali "
      ]
    },
    {
      "cell_type": "code",
      "metadata": {
        "id": "A0KdpEcZCOx2",
        "colab_type": "code",
        "colab": {}
      },
      "source": [
        "y_pred = model.predict(batch_images)\n",
        "\n",
        "y_pred_decoded = decode_detections(y_pred,\n",
        "                                   confidence_thresh=0.5,\n",
        "                                   iou_threshold=0.4,\n",
        "                                   top_k=200,\n",
        "                                   normalize_coords=normalize_coords,\n",
        "                                   img_height=img_height,\n",
        "                                   img_width=img_width)"
      ],
      "execution_count": null,
      "outputs": []
    },
    {
      "cell_type": "code",
      "metadata": {
        "id": "kBGKvK2uCW0O",
        "colab_type": "code",
        "colab": {}
      },
      "source": [
        "y_pred_decoded_inv = apply_inverse_transforms(y_pred_decoded, batch_inverse_transforms)\n",
        "\n",
        "np.set_printoptions(precision=2, suppress=True, linewidth=90)\n",
        "print(\"Predicted boxes:\\n\")\n",
        "print('   class   conf xmin   ymin   xmax   ymax')\n",
        "print(y_pred_decoded_inv[i])"
      ],
      "execution_count": null,
      "outputs": []
    },
    {
      "cell_type": "code",
      "metadata": {
        "id": "85bZwS-aCcE_",
        "colab_type": "code",
        "colab": {}
      },
      "source": [
        "colors = plt.cm.hsv(np.linspace(0, 1, n_classes+1)).tolist()\n",
        "\n",
        "classes = ['background',\n",
        "           'bag', 'belt', 'boots', 'footwear',\n",
        "           'outer', 'dress', 'sunglasses', 'pants',\n",
        "           'top', 'shorts', 'skirt', 'headwear',\n",
        "           'scarf/tie']\n",
        "\n",
        "plt.figure(figsize=(20,12))\n",
        "plt.imshow(batch_original_images[i])\n",
        "\n",
        "current_axis = plt.gca()\n",
        "\n",
        "for box in batch_original_labels[i]:\n",
        "    xmin = box[1]\n",
        "    ymin = box[2]\n",
        "    xmax = box[3]\n",
        "    ymax = box[4]\n",
        "    label = '{}'.format(classes[int(box[0])])\n",
        "    current_axis.add_patch(plt.Rectangle((xmin, ymin), xmax-xmin, ymax-ymin, color='green', fill=False, linewidth=2))  \n",
        "    current_axis.text(xmin, ymin, label, size='x-large', color='white', bbox={'facecolor':'green', 'alpha':1.0})\n",
        "\n",
        "for box in y_pred_decoded_inv[i]:\n",
        "    xmin = box[2]\n",
        "    ymin = box[3]\n",
        "    xmax = box[4]\n",
        "    ymax = box[5]\n",
        "    color = colors[int(box[0])]\n",
        "    label = '{}: {:.2f}'.format(classes[int(box[0])], box[1])\n",
        "    current_axis.add_patch(plt.Rectangle((xmin, ymin), xmax-xmin, ymax-ymin, color=color, fill=False, linewidth=2))  \n",
        "    current_axis.text(xmin, ymin, label, size='x-large', color='white', bbox={'facecolor':color, 'alpha':1.0})"
      ],
      "execution_count": null,
      "outputs": []
    }
  ]
}